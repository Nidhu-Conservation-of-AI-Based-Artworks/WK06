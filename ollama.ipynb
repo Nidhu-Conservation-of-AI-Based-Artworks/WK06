{
 "cells": [
  {
   "cell_type": "markdown",
   "metadata": {},
   "source": [
    "## Install / Setup"
   ]
  },
  {
   "cell_type": "markdown",
   "metadata": {},
   "source": [
    "### Windows/Mac Install:\n",
    "\n",
    "Download Ollama: https://ollama.com/download"
   ]
  },
  {
   "cell_type": "markdown",
   "metadata": {},
   "source": [
    "### Windows/Mac Setup:"
   ]
  },
  {
   "cell_type": "code",
   "execution_count": null,
   "metadata": {},
   "outputs": [],
   "source": [
    "# Run Ollama"
   ]
  },
  {
   "cell_type": "code",
   "execution_count": 1,
   "metadata": {},
   "outputs": [
    {
     "name": "stderr",
     "output_type": "stream",
     "text": [
      "\u001b[?2026h\u001b[?25l\u001b[1Gpulling manifest ⠋ \u001b[K\u001b[?25h\u001b[?2026l\u001b[?2026h\u001b[?25l\u001b[1Gpulling manifest ⠙ \u001b[K\u001b[?25h\u001b[?2026l\u001b[?2026h\u001b[?25l\u001b[1Gpulling manifest \u001b[K\n",
      "pulling 170370233dd5... 100% ▕████████████████▏ 4.1 GB                         \u001b[K\n",
      "pulling 72d6f08a42f6... 100% ▕████████████████▏ 624 MB                         \u001b[K\n",
      "pulling 43070e2d4e53... 100% ▕████████████████▏  11 KB                         \u001b[K\u001b[?25h\u001b[?2026l\u001b[?2026h\u001b[?25l\u001b[A\u001b[A\u001b[A\u001b[1Gpulling manifest \u001b[K\n",
      "pulling 170370233dd5... 100% ▕████████████████▏ 4.1 GB                         \u001b[K\n",
      "pulling 72d6f08a42f6... 100% ▕████████████████▏ 624 MB                         \u001b[K\n",
      "pulling 43070e2d4e53... 100% ▕████████████████▏  11 KB                         \u001b[K\n",
      "pulling c43332387573... 100% ▕████████████████▏   67 B                         \u001b[K\n",
      "pulling ed11eda7790d... 100% ▕████████████████▏   30 B                         \u001b[K\n",
      "pulling 7c658f9561e5... 100% ▕████████████████▏  564 B                         \u001b[K\n",
      "verifying sha256 digest \u001b[K\n",
      "writing manifest \u001b[K\n",
      "success \u001b[K\u001b[?25h\u001b[?2026l\n",
      "\u001b[?2026h\u001b[?25l\u001b[1Gpulling manifest ⠋ \u001b[K\u001b[?25h\u001b[?2026l\u001b[?2026h\u001b[?25l\u001b[1Gpulling manifest ⠙ \u001b[K\u001b[?25h\u001b[?2026l\u001b[?2026h\u001b[?25l\u001b[1Gpulling manifest \u001b[K\n",
      "pulling 74701a8c35f6... 100% ▕████████████████▏ 1.3 GB                         \u001b[K\n",
      "pulling 966de95ca8a6... 100% ▕████████████████▏ 1.4 KB                         \u001b[K\n",
      "pulling fcc5a6bec9da... 100% ▕████████████████▏ 7.7 KB                         \u001b[K\n",
      "pulling a70ff7e570d9... 100% ▕████████████████▏ 6.0 KB                         \u001b[K\n",
      "pulling 4f659a1e86d7... 100% ▕████████████████▏  485 B                         \u001b[K\n",
      "verifying sha256 digest \u001b[K\n",
      "writing manifest \u001b[K\n",
      "success \u001b[K\u001b[?25h\u001b[?2026l\n",
      "\u001b[?2026h\u001b[?25l\u001b[1Gpulling manifest ⠋ \u001b[K\u001b[?25h\u001b[?2026l\u001b[?2026h\u001b[?25l\u001b[1Gpulling manifest ⠙ \u001b[K\u001b[?25h\u001b[?2026l\u001b[?2026h\u001b[?25l\u001b[1Gpulling manifest ⠹ \u001b[K\u001b[?25h\u001b[?2026l\u001b[?2026h\u001b[?25l\u001b[1Gpulling manifest \u001b[K\n",
      "pulling 6e9f90f02bb3... 100% ▕████████████████▏ 9.0 GB                         \u001b[K\n",
      "pulling 369ca498f347... 100% ▕████████████████▏  387 B                         \u001b[K\n",
      "pulling 6e4c38e1172f... 100% ▕████████████████▏ 1.1 KB                         \u001b[K\n",
      "pulling f4d24e9138dd... 100% ▕████████████████▏  148 B                         \u001b[K\n",
      "pulling 3c24b0c80794... 100% ▕████████████████▏  488 B                         \u001b[K\n",
      "verifying sha256 digest \u001b[K\n",
      "writing manifest \u001b[K\n",
      "success \u001b[K\u001b[?25h\u001b[?2026l\n"
     ]
    },
    {
     "name": "stdout",
     "output_type": "stream",
     "text": [
      "NAME               ID              SIZE      MODIFIED               \n",
      "deepseek-r1:14b    ea35dfe18182    9.0 GB    Less than a second ago    \n",
      "llama3.2:1b        baf6a787fdff    1.3 GB    Less than a second ago    \n",
      "llava:latest       8dd30f6b0cb1    4.7 GB    Less than a second ago    \n"
     ]
    }
   ],
   "source": [
    "!ollama pull llava\n",
    "!ollama pull llama3.2:1b\n",
    "!ollama pull deepseek-r1:14b\n",
    "!ollama list"
   ]
  },
  {
   "cell_type": "markdown",
   "metadata": {},
   "source": [
    "### Linux Install:\n",
    "\n",
    "`curl -fsSL https://ollama.com/install.sh | sh`"
   ]
  },
  {
   "cell_type": "code",
   "execution_count": null,
   "metadata": {
    "id": "8n7XGkmKXTat"
   },
   "outputs": [],
   "source": [
    "!curl -fsSL https://ollama.com/install.sh | sh"
   ]
  },
  {
   "cell_type": "markdown",
   "metadata": {},
   "source": [
    "### Linux Setup"
   ]
  },
  {
   "cell_type": "code",
   "execution_count": null,
   "metadata": {},
   "outputs": [],
   "source": [
    "!nohup ollama serve > ollama.txt &"
   ]
  },
  {
   "cell_type": "code",
   "execution_count": null,
   "metadata": {},
   "outputs": [],
   "source": [
    "!ollama pull llava\n",
    "!ollama pull llama3.2:1b\n",
    "!ollama pull deepseek-r1:14b\n",
    "!ollama list"
   ]
  },
  {
   "cell_type": "markdown",
   "metadata": {},
   "source": [
    "### If Running on a Linux Cloud Machine"
   ]
  },
  {
   "cell_type": "code",
   "execution_count": null,
   "metadata": {},
   "outputs": [],
   "source": [
    "# If running on Linux cloud machine\n",
    "!wget -P ~ https://github.com/cloudflare/cloudflared/releases/latest/download/cloudflared-linux-amd64.deb\n",
    "!dpkg -i ~/cloudflared-linux-amd64.deb"
   ]
  },
  {
   "cell_type": "code",
   "execution_count": null,
   "metadata": {},
   "outputs": [],
   "source": [
    "# If running on Linux cloud machine\n",
    "!nohup cloudflared tunnel --url http://localhost:11434 --http-host-header=\"localhost:11434\" > cloud.txt &\n",
    "!grep trycloud cloud.txt"
   ]
  },
  {
   "cell_type": "markdown",
   "metadata": {
    "id": "IxMI8t_iqwkJ"
   },
   "source": [
    "## Prompt with Python\n",
    "\n",
    "Windows, Mac, Linux"
   ]
  },
  {
   "cell_type": "code",
   "execution_count": 2,
   "metadata": {},
   "outputs": [
    {
     "name": "stdout",
     "output_type": "stream",
     "text": [
      "Defaulting to user installation because normal site-packages is not writeable\n",
      "Requirement already satisfied: ollama in c:\\users\\mc postlab\\appdata\\roaming\\python\\python312\\site-packages (0.4.7)\n",
      "Requirement already satisfied: httpx<0.29,>=0.27 in c:\\programdata\\anaconda3\\lib\\site-packages (from ollama) (0.27.0)\n",
      "Requirement already satisfied: pydantic<3.0.0,>=2.9.0 in c:\\users\\mc postlab\\appdata\\roaming\\python\\python312\\site-packages (from ollama) (2.10.6)\n",
      "Requirement already satisfied: anyio in c:\\programdata\\anaconda3\\lib\\site-packages (from httpx<0.29,>=0.27->ollama) (4.2.0)\n",
      "Requirement already satisfied: certifi in c:\\programdata\\anaconda3\\lib\\site-packages (from httpx<0.29,>=0.27->ollama) (2025.1.31)\n",
      "Requirement already satisfied: httpcore==1.* in c:\\programdata\\anaconda3\\lib\\site-packages (from httpx<0.29,>=0.27->ollama) (1.0.2)\n",
      "Requirement already satisfied: idna in c:\\programdata\\anaconda3\\lib\\site-packages (from httpx<0.29,>=0.27->ollama) (3.7)\n",
      "Requirement already satisfied: sniffio in c:\\programdata\\anaconda3\\lib\\site-packages (from httpx<0.29,>=0.27->ollama) (1.3.0)\n",
      "Requirement already satisfied: h11<0.15,>=0.13 in c:\\programdata\\anaconda3\\lib\\site-packages (from httpcore==1.*->httpx<0.29,>=0.27->ollama) (0.14.0)\n",
      "Requirement already satisfied: annotated-types>=0.6.0 in c:\\programdata\\anaconda3\\lib\\site-packages (from pydantic<3.0.0,>=2.9.0->ollama) (0.6.0)\n",
      "Requirement already satisfied: pydantic-core==2.27.2 in c:\\users\\mc postlab\\appdata\\roaming\\python\\python312\\site-packages (from pydantic<3.0.0,>=2.9.0->ollama) (2.27.2)\n",
      "Requirement already satisfied: typing-extensions>=4.12.2 in c:\\users\\mc postlab\\appdata\\roaming\\python\\python312\\site-packages (from pydantic<3.0.0,>=2.9.0->ollama) (4.12.2)\n"
     ]
    }
   ],
   "source": [
    "# !pip install ollama"
   ]
  },
  {
   "cell_type": "code",
   "execution_count": 3,
   "metadata": {},
   "outputs": [],
   "source": [
    "import requests, base64\n",
    "\n",
    "from ollama import Client\n",
    "\n",
    "OLLAMA_URL = \"http://127.0.0.1:11434\""
   ]
  },
  {
   "cell_type": "markdown",
   "metadata": {},
   "source": [
    "### Text Prompt"
   ]
  },
  {
   "cell_type": "code",
   "execution_count": null,
   "metadata": {
    "id": "mwCkSI2jZ2yi"
   },
   "outputs": [
    {
     "name": "stdout",
     "output_type": "stream",
     "text": [
      "Eggs can appear yellow due to the presence of carotenoids, specifically beta-carotene and alpha-carotene. These pigments are naturally occurring in many foods, including fruits, vegetables, and dairy products.\n",
      "\n",
      "Carotenoids are antioxidants that help protect cells from damage caused by free radicals. They're also responsible for the orange and yellow colors we see in nature.\n",
      "\n",
      "When eggs are laid, they contain small amounts of carotenoids from the diet of the hen. The yolks, which are rich in these pigments, are particularly prone to turning yellow due to the way the light interacts with them.\n",
      "\n",
      "There are a few reasons why egg yolks tend to turn yellow:\n",
      "\n",
      "1. Light exposure: The yolks are more sensitive to light than other parts of the egg, especially when they're still developing. This can cause the carotenoids to break down and lead to a yellower color.\n",
      "2. Diet: The hens' diet plays a significant role in determining the shade of yellow. Hens that eat foods rich in beta-carotene, such as leafy greens or sweet potatoes, may produce yolks with a more vibrant yellow color.\n",
      "3. Age: As eggs age, the carotenoids can break down over time, leading to a duller yellower color.\n",
      "\n",
      "It's worth noting that some egg yolks may appear greenish or brown due to other factors, such as:\n",
      "\n",
      "* Old or spoiled eggs\n",
      "* Eggs from hens fed foods high in iron or other minerals\n",
      "* Environmental factors like pollution or high temperatures\n",
      "\n",
      "Overall, the yellow color of an egg yolk is a natural result of its composition and the environment in which it was produced.\n"
     ]
    }
   ],
   "source": [
    "client = Client(host=OLLAMA_URL)\n",
    "\n",
    "response = client.chat(\n",
    "    model='llama3.2:1b',\n",
    "    messages=[{\n",
    "        'role': 'user',\n",
    "        'content': 'Why are eggs yellow?',\n",
    "    }]\n",
    ")\n",
    "\n",
    "# display(response)\n",
    "print(response[\"message\"][\"content\"])"
   ]
  },
  {
   "cell_type": "markdown",
   "metadata": {},
   "source": [
    "### Image Prompt"
   ]
  },
  {
   "cell_type": "code",
   "execution_count": 5,
   "metadata": {},
   "outputs": [],
   "source": [
    "img_data = requests.get(\"https://mystickermania.com/cdn/stickers/gudetama/gudetama-strawberry-512x512.png\").content\n",
    "# img_data"
   ]
  },
  {
   "cell_type": "code",
   "execution_count": 6,
   "metadata": {},
   "outputs": [],
   "source": [
    "with open(\"./imgs/landscape_00.jpg\", \"rb\") as ifp:\n",
    "  img_data = ifp.read()\n",
    "# img_data"
   ]
  },
  {
   "cell_type": "code",
   "execution_count": 7,
   "metadata": {},
   "outputs": [
    {
     "data": {
      "text/plain": [
       "\" The image depicts a picturesque landscape scene featuring a majestic mountain range, lush green forest, and a tranquil river or stream. The mountains are covered with a light blanket of snow, indicating that the photo may have been taken during the colder months. In the foreground, there is an abundance of trees with a variety of shades of green. The sky is clear with only a few wispy clouds. A watermark or artist's signature can be seen in the lower-right corner of the image. \""
      ]
     },
     "metadata": {},
     "output_type": "display_data"
    }
   ],
   "source": [
    "client = Client(host=OLLAMA_URL)\n",
    "\n",
    "img = base64.b64encode(img_data).decode()\n",
    "# display(img)\n",
    "\n",
    "response = client.chat(\n",
    "    model='llava',\n",
    "    messages=[{\n",
    "        'role': 'user',\n",
    "        'content': 'What is in this image? Be concise.',\n",
    "        'images': [img],\n",
    "    }]\n",
    ")\n",
    "\n",
    "# display(response)\n",
    "display(response[\"message\"][\"content\"])"
   ]
  },
  {
   "cell_type": "code",
   "execution_count": 9,
   "metadata": {},
   "outputs": [
    {
     "data": {
      "text/plain": [
       "\" The image depicts a beautiful landscape with a majestic mountain range featuring snow-capped peaks. The foreground shows a serene river with trees and greenery on both sides, providing a sense of tranquility. In the distance, you can see a valley that leads to the mountains. Above, there's a clear blue sky meeting the mountainous horizon. The artwork is a digital painting or illustration that captures the essence of a peaceful wilderness scene. \""
      ]
     },
     "metadata": {},
     "output_type": "display_data"
    }
   ],
   "source": [
    "client = Client(host=OLLAMA_URL)\n",
    "\n",
    "img = base64.b64encode(img_data).decode()\n",
    "# display(img)\n",
    "\n",
    "response = client.chat(\n",
    "    model='llava',\n",
    "    messages=[\n",
    "        {\n",
    "            'role': 'system',\n",
    "            'content': 'You speak like you are a 2 year old',\n",
    "        },\n",
    "        {\n",
    "        'role': 'user',\n",
    "        'content': 'What is in this image? Be concise.',\n",
    "        'images': [img],\n",
    "    }]\n",
    ")\n",
    "\n",
    "# display(response)\n",
    "display(response[\"message\"][\"content\"])"
   ]
  },
  {
   "cell_type": "code",
   "execution_count": null,
   "metadata": {},
   "outputs": [],
   "source": []
  }
 ],
 "metadata": {
  "accelerator": "GPU",
  "colab": {
   "gpuType": "T4",
   "provenance": []
  },
  "kernelspec": {
   "display_name": "base",
   "language": "python",
   "name": "python3"
  },
  "language_info": {
   "codemirror_mode": {
    "name": "ipython",
    "version": 3
   },
   "file_extension": ".py",
   "mimetype": "text/x-python",
   "name": "python",
   "nbconvert_exporter": "python",
   "pygments_lexer": "ipython3",
   "version": "3.12.7"
  }
 },
 "nbformat": 4,
 "nbformat_minor": 4
}
